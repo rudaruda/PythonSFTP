{
  "nbformat": 4,
  "nbformat_minor": 0,
  "metadata": {
    "colab": {
      "name": "Connect SFTP",
      "provenance": [],
      "authorship_tag": "ABX9TyMnag68WlVW0kUo3vAOvWbK",
      "include_colab_link": true
    },
    "kernelspec": {
      "name": "python3",
      "display_name": "Python 3"
    },
    "language_info": {
      "name": "python"
    }
  },
  "cells": [
    {
      "cell_type": "markdown",
      "metadata": {
        "id": "view-in-github",
        "colab_type": "text"
      },
      "source": [
        "<a href=\"https://colab.research.google.com/github/rudaruda/PythonSFTP/blob/main/Connect_SFTP.ipynb\" target=\"_parent\"><img src=\"https://colab.research.google.com/assets/colab-badge.svg\" alt=\"Open In Colab\"/></a>"
      ]
    },
    {
      "cell_type": "markdown",
      "metadata": {
        "id": "9vDFLZT3xTlf"
      },
      "source": [
        "# Testing: FTP/SFTP with Telnet"
      ]
    },
    {
      "cell_type": "code",
      "metadata": {
        "id": "xlVUgKnIJ9KF"
      },
      "source": [
        "import socket\n",
        "\n",
        "def isOpen(ip , port):\n",
        "  print('...start isOpen(',ip,')...')\n",
        "  hostname = socket.gethostname()\n",
        "  local_ip = socket.gethostbyname(hostname)\n",
        "  print('{Origin:', local_ip, ';', hostname,'}')\n",
        "  s = socket.socket(socket.AF_INET , socket.SOCK_STREAM)\n",
        "  print('[set timeout:')\n",
        "  s.settimeout(5)\n",
        "  print(\"'ok']\")\n",
        "  try:\n",
        "    print('[connect:')\n",
        "    s.connect((ip , int(port)))\n",
        "    print(\"'ok']\")\n",
        "    print('[send]')\n",
        "    s.sendall(b'Hello, world')\n",
        "    #s.send(\"AT\\n\".encode())\n",
        "    print(\"'ok']\")\n",
        "    print('[receive:')\n",
        "    data = s.recv(1024).decode()\n",
        "    print(\"'ok']\")\n",
        "    print('[Recebido:', repr(data),']')\n",
        "    s.shutdown(2)\n",
        "    print(\"{Finish: 'Só Sucesso!'}\")\n",
        "    return True\n",
        "  except:    \n",
        "    print(\"'NOT OK'] ... finish \")\n",
        "    return False\n",
        "\n",
        "# Example\n",
        "#isOpen('12.345.678.901',22)"
      ],
      "execution_count": 1,
      "outputs": []
    },
    {
      "cell_type": "markdown",
      "metadata": {
        "id": "IOvbAnLHxwnU"
      },
      "source": [
        "# Testing: SFTP, connect, check Folder and Files and Write/Read Files"
      ]
    },
    {
      "cell_type": "code",
      "metadata": {
        "id": "ryVorvTRxL9L"
      },
      "source": [
        "import paramiko\n",
        "from stat import S_ISDIR, S_ISREG\n",
        "from io import BytesIO\n",
        "\n",
        "def sftp_connect(xHost,xUser,xPass):\n",
        "  ssh = paramiko.SSHClient()\n",
        "  # In prod, add explicitly the rsa key of the host instead of using the AutoAddPolicy:\n",
        "  # ssh.get_host_keys().add('example.com', 'ssh-rsa', paramiko.RSAKey(data=decodebytes(b\"\"\"AAAAB3NzaC1yc2EAAAABIwAAAQEA0hV...\"\"\")))\n",
        "  ssh.set_missing_host_key_policy(paramiko.AutoAddPolicy())\n",
        "  try:\n",
        "    ssh.connect( hostname=xHost,username=xUser,password=xPass )\n",
        "  except Exception as ex: \n",
        "      print (\"Error on connect SFTP:\", ex)\n",
        "      return -1,-1\n",
        "  print('[connect: ok]')\n",
        "  sftp = ssh.open_sftp()\n",
        "  print('[open: ok]')\n",
        "  return ssh, sftp\n",
        "  \n",
        "def sftp_exists(sftp, path):\n",
        "  try:\n",
        "    sftp.stat(path)\n",
        "    return True\n",
        "  except FileNotFoundError:\n",
        "    return False\n",
        "\n",
        "def sftp_listfolder(sftp, xPath):\n",
        "  #remotedir = '/' # '/' root dir, '..' parent dir, '.' current dir\n",
        "  for entry in sftp.listdir_attr(xPath):\n",
        "    mode = entry.st_mode\n",
        "    fType = '[Dir.]' if S_ISDIR(mode) else '[File]'\n",
        "    print(fType, entry.filename)\n",
        "\n",
        "def sftp_readfile(sftp, xPath):\n",
        "  try:\n",
        "    a = sftp.stat(xPath)\n",
        "  except IOError:\n",
        "    print('File no exists:', xPath)\n",
        "    #sftp.put('deleteme.txt', '/tmp/deleteme.txt')\n",
        "    return -1\n",
        "  with sftp.open(xPath) as remote_file:\n",
        "    for line in remote_file:\n",
        "      print('line:',line)\n",
        "  print('[read file: ok]')\n",
        "  \n",
        "def sftp_writefile(sftp, xPath, xString):\n",
        "  try:\n",
        "    a = sftp.stat(xPath)\n",
        "    print('{ File alread exists:', xPath,'}')\n",
        "    return -1\n",
        "  except IOError:\n",
        "    a=1\n",
        "    #sftp.put('deleteme.txt', '/tmp/deleteme.txt')\n",
        "  sftp.putfo(BytesIO(xString.encode()), xPath)\n",
        "  print('[write file: ok]')\n",
        "  return 1\n",
        "\n",
        "def isSftp(xHost,xUser,xPass,xPath='.',xFile=''):\n",
        "  print('...start isSftp(',xHost,'with user','\"{xUser}\"',')...')\n",
        "  xChDir = ''\n",
        "  if xPath == '': xPath = '.'\n",
        "  ssh, sftp = sftp_connect(xHost,xUser,xPass)\n",
        "  if ssh == -1: return -1\n",
        "  if xPath!='' and xPath not in ['/','.','..']:\n",
        "      if not sftp_exists(sftp,xPath):\n",
        "          print (\"Error DIR not exists:\", xPath)\n",
        "          return -1\n",
        "      else:\n",
        "          print('{dir:',xPath,'}')\n",
        "          xChDir = xPath\n",
        "  else:\n",
        "    stdin, stdout, stderr = ssh.exec_command(\"pwd\")\n",
        "    print('{home dir:',stdout.readlines(),'}')\n",
        "  sftp_listfolder(sftp, xPath)\n",
        "  if xChDir not in ['','.']:\n",
        "    sftp.chdir(xChDir)\n",
        "    print('[chdir: ok]')\n",
        "  if xFile != '': \n",
        "    sftp_writefile(sftp, xPath+'/'+xFile, 'Linha 1 Teste Teste Teste\\nLinha 2 Testt Testt Testt\\nLinha 3 Testi Testi Testi')\n",
        "  sftp_readfile(sftp,xPath+'/'+xFile)\n",
        "  sftp.close()\n",
        "\n",
        "def isSftp2(xHost,xPort,xUser,xPass):\n",
        "  print('...start isSftp2(',xHost,'with',xUser,')...')\n",
        "  transport = paramiko.Transport((xHost,xPort))\n",
        "  try:\n",
        "    transport.connect(username = xUser, password = xPass)\n",
        "  except Exception as ex: \n",
        "      print (\"Error on connect SFTP:\", ex)\n",
        "      return -1\n",
        "  print('[connect: ok]')\n",
        "  sftp = transport.open_sftp()\n",
        "  for filename in sftp.listdir():\n",
        "    print(f\"Downloading {filename} from sftp...\")\n",
        "\n",
        "##Examples\n",
        "#isOpen('12.345.678.901',22)\n",
        "#isSftp('12.345.678.901','USER','PASS')\n",
        "#isSftp('12.345.678.901','USER','PASS','PATH')\n",
        "#isSftp('12.345.678.901','USER','PASS','PATH','NEWFILE.TXT')"
      ],
      "execution_count": null,
      "outputs": []
    },
    {
      "cell_type": "markdown",
      "metadata": {
        "id": "bvOZRCXizFPR"
      },
      "source": [
        "# Alternative"
      ]
    },
    {
      "cell_type": "code",
      "metadata": {
        "id": "vfb51EDRzHNs"
      },
      "source": [
        "## FILES TO S3\n",
        "#mode: ssh treats all files as binary anyway, to 'b' is ignored.\n",
        "#with sftp.file(filename, mode=\"r\") as file_obj:\n",
        "#  print(f\"uploading  {filename} to s3...\")\n",
        "#  bucket.put_object(Body=file_obj, Key=f\"destdir/{filename}\")\n",
        "#  print(f\"All done for {filename}\")\n",
        "\n",
        "## Alternative to Write Files [1]\n",
        "#file=ftp.file('remote file name', \"a\", -1)\n",
        "#file.write('Hello World!\\n')\n",
        "#file.flush()\n",
        "#ftp.close()\n",
        "\n",
        "## Alternative to Write Files [2]\n",
        "#from io import BytesIO\n",
        "#ftp.putfo(BytesIO(localstring.encode()), 'newfile.txt')\n",
        "\n",
        "## CONNECT WITH FS (FileSystem)\n",
        "#import fs\n",
        "#sf = fs.open_fs(\"sftp://[user[:password]@]host[:port]/[directory]\")\n",
        "#sf.makedir('my_dir')\n",
        "\n",
        "## Another option to connect with FileSyste\n",
        "#from fs.sshfs import SSHFS\n",
        "#sf = SSHFS(...\n",
        "\n",
        "## Another another option to connect with FileSyste\n",
        "#from fsspec.implementations.sftp import SFTPFileSystem\n",
        "#fs = SFTPFileSystem(host=host, username=username, password=password)\n",
        "#fs.ls(\"/\")\n",
        "#with fs.open(file_name) as file:\n",
        "#  content = file.read()"
      ],
      "execution_count": null,
      "outputs": []
    }
  ]
}